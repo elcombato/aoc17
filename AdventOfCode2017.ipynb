{
 "cells": [
  {
   "cell_type": "markdown",
   "metadata": {},
   "source": [
    "# Advent of Code 2017"
   ]
  },
  {
   "cell_type": "code",
   "execution_count": 123,
   "metadata": {
    "collapsed": true
   },
   "outputs": [],
   "source": [
    "import csv\n",
    "import numpy as np\n",
    "from itertools import product\n",
    "import math\n",
    "import re\n",
    "import pandas as pd"
   ]
  },
  {
   "cell_type": "markdown",
   "metadata": {},
   "source": [
    "## Day 1"
   ]
  },
  {
   "cell_type": "code",
   "execution_count": 2,
   "metadata": {
    "collapsed": true
   },
   "outputs": [],
   "source": [
    "def d1p1(inp):\n",
    "    seq1 = [int(inp[i:(i+1)]) for i in range(len(inp))] + [int(inp[-1])]\n",
    "    return sum([seq1[i] for i in range(len(seq1)-1) if (seq1[i] - seq1[i+1]) == 0])"
   ]
  },
  {
   "cell_type": "code",
   "execution_count": 3,
   "metadata": {
    "collapsed": true
   },
   "outputs": [],
   "source": [
    "def d1p2(inp):\n",
    "    seq2 = [int(inp[i:(i+1)]) for i in range(len(inp))] * 2\n",
    "    step = int(len(inp) / 2)\n",
    "    return sum([seq2[i] for i in range(len(inp)) if (seq2[i] - seq2[i+step]) == 0])"
   ]
  },
  {
   "cell_type": "markdown",
   "metadata": {},
   "source": [
    "### Result"
   ]
  },
  {
   "cell_type": "code",
   "execution_count": 4,
   "metadata": {},
   "outputs": [
    {
     "name": "stdout",
     "output_type": "stream",
     "text": [
      "==> Part1: 1216\n",
      "==> Part2: 1072\n"
     ]
    }
   ],
   "source": [
    "with open('input_day1.txt', 'r') as f:\n",
    "    inp = f.read()\n",
    "print(f\"==> Part1: {d1p1(inp)}\")\n",
    "print(f\"==> Part2: {d1p2(inp)}\")"
   ]
  },
  {
   "cell_type": "markdown",
   "metadata": {},
   "source": [
    "## Day 2"
   ]
  },
  {
   "cell_type": "code",
   "execution_count": 5,
   "metadata": {
    "collapsed": true
   },
   "outputs": [],
   "source": [
    "def d2p1(inp):\n",
    "    return sum(inp.max(1) - inp.min(1))"
   ]
  },
  {
   "cell_type": "code",
   "execution_count": 6,
   "metadata": {
    "collapsed": true
   },
   "outputs": [],
   "source": [
    "def d2p2(inp):\n",
    "    def evenly_div(arr):\n",
    "        pairs = np.asarray(list(product(arr, repeat=2)))\n",
    "        div = (pairs[:, 0] / pairs[:, 1]).astype(int)\n",
    "        return div[(pairs[:, 0] % pairs[:, 1] == 0) & (pairs[:, 0] != pairs[:, 1])][0]\n",
    "    return sum(np.apply_along_axis(evenly_div, 1, inp))"
   ]
  },
  {
   "cell_type": "markdown",
   "metadata": {},
   "source": [
    "### Result"
   ]
  },
  {
   "cell_type": "code",
   "execution_count": 7,
   "metadata": {},
   "outputs": [
    {
     "name": "stdout",
     "output_type": "stream",
     "text": [
      "==> Part1: 34925\n",
      "==> Part2: 221\n"
     ]
    }
   ],
   "source": [
    "with open('input_day2.txt', 'r') as f:\n",
    "    inp = [l for l in csv.reader(f)]\n",
    "inp = np.asarray(inp).astype(int)\n",
    "print(f\"==> Part1: {d2p1(inp)}\")\n",
    "print(f\"==> Part2: {d2p2(inp)}\")"
   ]
  },
  {
   "cell_type": "markdown",
   "metadata": {},
   "source": [
    "## Day 3"
   ]
  },
  {
   "cell_type": "code",
   "execution_count": 8,
   "metadata": {
    "collapsed": true
   },
   "outputs": [],
   "source": [
    "def d3_prereq(inp):\n",
    "    upper_sqrt = math.ceil(math.sqrt(inp))\n",
    "    edge_len = upper_sqrt + int(upper_sqrt % 2 == 0)\n",
    "    return upper_sqrt, edge_len"
   ]
  },
  {
   "cell_type": "code",
   "execution_count": 9,
   "metadata": {
    "collapsed": true
   },
   "outputs": [],
   "source": [
    "def d3p1(inp):\n",
    "    upper_sqrt, edge_len = d3_prereq(inp)\n",
    "    print(f'square root \\t= {math.sqrt(inp)} (=> {upper_sqrt} => {edge_len})')\n",
    "\n",
    "    ring_dist = int(edge_len / 2)\n",
    "    print(f'ring to center \\t= {ring_dist}')\n",
    "\n",
    "    last_num = edge_len**2\n",
    "    print(f'max of ring \\t= {last_num}')\n",
    "\n",
    "    edge_center = np.array([(last_num - int(edge_len / 2)) - (edge_len - 1) * i for i in range(4)])\n",
    "    edge_dist = min(abs(edge_center - inp))\n",
    "    print(f'to edge center = {edge_dist}')\n",
    "\n",
    "    return ring_dist + edge_dist"
   ]
  },
  {
   "cell_type": "code",
   "execution_count": 10,
   "metadata": {
    "collapsed": true
   },
   "outputs": [],
   "source": [
    "def d3p2(inp):\n",
    "    _, edge_len = d3_prereq(inp)\n",
    "    grid_size = edge_len + 2\n",
    "    grid = np.zeros([grid_size, grid_size])\n",
    "    center = int(grid_size / 2)\n",
    "    x, y = center, center\n",
    "    val = 1\n",
    "    grid[y, x] = val\n",
    "\n",
    "    while val < inp:\n",
    "        if grid[y-1, x] == 0 and grid[y, x-1] == 0 and grid[y+1, x] == 0 and grid[y, x+1] == 0:\n",
    "            x += 1\n",
    "        # UP if: u == 0 and l != 0\n",
    "        elif grid[y-1, x] == 0 and grid[y, x-1] != 0:\n",
    "            y -= 1\n",
    "        # LEFT if: l == 0 and d != 0\n",
    "        elif grid[y, x-1] == 0 and grid[y+1, x] != 0:\n",
    "            x -= 1\n",
    "        # DOWN if: d == 0 and r != 0\n",
    "        elif grid[y+1, x] == 0 and grid[y, x+1] != 0:\n",
    "            y += 1\n",
    "        # RIGHT if: r == 0 and u != 0\n",
    "        elif grid[y, x+1] == 0 and grid[y-1, x] != 0:\n",
    "            x += 1\n",
    "        val = sum([\n",
    "            grid[y+1, x],\n",
    "            grid[y-1, x],\n",
    "            grid[y, x+1],\n",
    "            grid[y, x-1],\n",
    "            grid[y+1, x+1],\n",
    "            grid[y+1, x-1],\n",
    "            grid[y-1, x+1],\n",
    "            grid[y-1, x-1]        \n",
    "        ])\n",
    "        grid[y, x] = val\n",
    "    return int(val)"
   ]
  },
  {
   "cell_type": "markdown",
   "metadata": {},
   "source": [
    "### Result"
   ]
  },
  {
   "cell_type": "code",
   "execution_count": 11,
   "metadata": {},
   "outputs": [
    {
     "name": "stdout",
     "output_type": "stream",
     "text": [
      "square root \t= 601.2711534740379 (=> 602 => 603)\n",
      "ring to center \t= 301\n",
      "max of ring \t= 363609\n",
      "to edge center = 25\n",
      "==> Part1: 326\n",
      "==> Part2: 363010\n"
     ]
    }
   ],
   "source": [
    "inp = 361527\n",
    "print(f\"==> Part1: {d3p1(inp)}\")\n",
    "print(f\"==> Part2: {d3p2(inp)}\")"
   ]
  },
  {
   "cell_type": "markdown",
   "metadata": {},
   "source": [
    "## Day 4"
   ]
  },
  {
   "cell_type": "code",
   "execution_count": 12,
   "metadata": {
    "collapsed": true
   },
   "outputs": [],
   "source": [
    "def d4p1(inp):\n",
    "    return sum([len(p) == len(set(p)) for p in inp])"
   ]
  },
  {
   "cell_type": "code",
   "execution_count": 13,
   "metadata": {
    "collapsed": true
   },
   "outputs": [],
   "source": [
    "def d4p2(inp):\n",
    "    ana = [[''.join(sorted(set(w))) for w in p] for p in inp]\n",
    "    return sum([len(p) == len(set(p)) for p in ana])"
   ]
  },
  {
   "cell_type": "markdown",
   "metadata": {},
   "source": [
    "### Result"
   ]
  },
  {
   "cell_type": "code",
   "execution_count": 14,
   "metadata": {},
   "outputs": [
    {
     "name": "stdout",
     "output_type": "stream",
     "text": [
      "==> Part1: 466\n",
      "==> Part2: 251\n"
     ]
    }
   ],
   "source": [
    "with open('input_day4.txt', 'r') as f:\n",
    "    inp = f.readlines()\n",
    "inp = [phrase.rstrip('\\n').split(' ') for phrase in inp]\n",
    "\n",
    "print(f\"==> Part1: {d4p1(inp)}\")\n",
    "print(f\"==> Part2: {d4p2(inp)}\")"
   ]
  },
  {
   "cell_type": "markdown",
   "metadata": {},
   "source": [
    "## Day 5"
   ]
  },
  {
   "cell_type": "code",
   "execution_count": 24,
   "metadata": {
    "collapsed": true
   },
   "outputs": [],
   "source": [
    "def d5(inp, p1=True):\n",
    "    pos, n_steps = 0, 0\n",
    "    while 0 <= pos < len(inp):\n",
    "        offset = inp[pos]\n",
    "        inp[pos] += 1 if (offset < 3 or p1) else -1\n",
    "        pos = pos+offset\n",
    "        n_steps += 1\n",
    "    return n_steps, inp"
   ]
  },
  {
   "cell_type": "markdown",
   "metadata": {},
   "source": [
    "### Result"
   ]
  },
  {
   "cell_type": "code",
   "execution_count": 29,
   "metadata": {},
   "outputs": [
    {
     "name": "stdout",
     "output_type": "stream",
     "text": [
      "==> Part1: 325922\n",
      "==> Part2: 35\n"
     ]
    }
   ],
   "source": [
    "inp = []\n",
    "with open('input_day5.txt', 'r') as f:\n",
    "    line = f.readline()\n",
    "    while len(line) > 0:\n",
    "        inp.append(int(line.rstrip('\\n')))\n",
    "        line = f.readline()\n",
    "        \n",
    "p1_result, p1_state = d5(inp, p1=True)\n",
    "p2_result, _ = d5(inp, p1=False)\n",
    "print(f\"==> Part1: {p1_result}\")\n",
    "print(f\"==> Part2: {p2_result}\")"
   ]
  },
  {
   "cell_type": "markdown",
   "metadata": {},
   "source": [
    "## Day 6"
   ]
  },
  {
   "cell_type": "code",
   "execution_count": 17,
   "metadata": {
    "collapsed": true
   },
   "outputs": [],
   "source": [
    "def d6p1(state):\n",
    "    seen_states = []\n",
    "    n_cycles = 0\n",
    "    while str(state) not in seen_states:\n",
    "        ix = np.argmax(state)\n",
    "        n_blocks = state[ix]\n",
    "        seen_states.append(str(state))\n",
    "        state[ix] = 0\n",
    "        while n_blocks > 0:\n",
    "            ix += 1\n",
    "            ix *= int(ix < len(state))\n",
    "            n_blocks -= 1\n",
    "            state[ix] += 1\n",
    "        n_cycles += 1\n",
    "    return n_cycles, state"
   ]
  },
  {
   "cell_type": "code",
   "execution_count": 18,
   "metadata": {
    "collapsed": true
   },
   "outputs": [],
   "source": [
    "def d6p2(state):\n",
    "    n_cycles = 0\n",
    "    loop_state = str(state)\n",
    "    while n_cycles == 0 or str(state) != loop_state:\n",
    "        ix = np.argmax(state)\n",
    "        n_blocks = state[ix]\n",
    "        state[ix] = 0\n",
    "        while n_blocks > 0:\n",
    "            ix += 1\n",
    "            ix *= int(ix < len(state))\n",
    "            n_blocks -= 1\n",
    "            state[ix] += 1\n",
    "        n_cycles += 1\n",
    "    return n_cycles"
   ]
  },
  {
   "cell_type": "markdown",
   "metadata": {},
   "source": [
    "### Result"
   ]
  },
  {
   "cell_type": "code",
   "execution_count": 30,
   "metadata": {},
   "outputs": [
    {
     "name": "stdout",
     "output_type": "stream",
     "text": [
      "==> Part1: 7864\n",
      "==> Part2: 1695\n"
     ]
    }
   ],
   "source": [
    "with open('input_day6.txt', 'r') as f:\n",
    "    inp = f.read().rstrip('\\n').split('\\t')\n",
    "inp = np.asarray(inp).astype(int)\n",
    "\n",
    "p1_result, p1_state = d6p1(inp)\n",
    "p2_result = d6p2(p1_state)\n",
    "print(f\"==> Part1: {p1_result}\")\n",
    "print(f\"==> Part2: {p2_result}\")"
   ]
  },
  {
   "cell_type": "markdown",
   "metadata": {},
   "source": [
    "## Day 7"
   ]
  },
  {
   "cell_type": "code",
   "execution_count": 66,
   "metadata": {
    "scrolled": false
   },
   "outputs": [
    {
     "name": "stdout",
     "output_type": "stream",
     "text": [
      "[['rmhcw' '26' '']\n",
      " ['dmmriu' '61' '']\n",
      " ['zjyaaoc' '89' 'khekb, lywwhf']\n",
      " ['kjgaib' '385' '']]\n"
     ]
    }
   ],
   "source": [
    "with open('input_day7.txt', 'r') as f:\n",
    "    inp = f.readlines()\n",
    "inp = np.asarray([re.findall('^(\\w+) \\((\\d+)\\)(?: -> )?(.*)$',\n",
    "                             i.rstrip('\\n'))[0] for i in inp])\n",
    "print(inp[:4])"
   ]
  },
  {
   "cell_type": "markdown",
   "metadata": {},
   "source": [
    "For every node find the parent node"
   ]
  },
  {
   "cell_type": "code",
   "execution_count": 215,
   "metadata": {},
   "outputs": [],
   "source": [
    "parents = dict()\n",
    "for ele in inp:\n",
    "    if len(ele[2]) > 0:\n",
    "        children = ele[2].split(', ')\n",
    "        for child in children:\n",
    "            parents[child] = ele[0]"
   ]
  },
  {
   "cell_type": "markdown",
   "metadata": {},
   "source": [
    "The only node without a parent is the __LUCA__ _(last universal common ancestor)_"
   ]
  },
  {
   "cell_type": "code",
   "execution_count": 216,
   "metadata": {},
   "outputs": [
    {
     "data": {
      "text/plain": [
       "'ykpsek'"
      ]
     },
     "execution_count": 216,
     "metadata": {},
     "output_type": "execute_result"
    }
   ],
   "source": [
    "luca = (set(inp[:, 0]) - set(parents.keys())).pop()\n",
    "luca"
   ]
  },
  {
   "cell_type": "markdown",
   "metadata": {},
   "source": [
    "### 7.2"
   ]
  },
  {
   "cell_type": "code",
   "execution_count": 276,
   "metadata": {},
   "outputs": [
    {
     "data": {
      "text/plain": [
       "471343"
      ]
     },
     "execution_count": 276,
     "metadata": {},
     "output_type": "execute_result"
    }
   ],
   "source": [
    "class DF_Tree:\n",
    "    def __init__(self, data, parents):\n",
    "        df = pd.DataFrame(data, columns=['id', 'weight', 'children'])\n",
    "        df.weight = df.weight.astype(int)\n",
    "        df.set_index('id', inplace=True)\n",
    "        df['sub_weights'] = 0\n",
    "        self.df = df.join(pd.Series(parents, name='parent'))\n",
    "        \n",
    "    def walk(self, node_id):\n",
    "        node = self.df.loc[node_id]\n",
    "        if len(node.children) == 0:\n",
    "            return int(node.weight)\n",
    "        sub_w = sum([self.walk(child_id) for child_id in node.children.split(', ')])\n",
    "        self.df.loc[node_id, 'sub_weights'] = sub_w\n",
    "        return self.df.loc[node_id, 'sub_weights'] + int(node.weight)\n",
    "\n",
    "tree = DF_Tree(inp, parents)\n",
    "tree.walk(luca)"
   ]
  },
  {
   "cell_type": "code",
   "execution_count": 277,
   "metadata": {},
   "outputs": [
    {
     "name": "stdout",
     "output_type": "stream",
     "text": [
      "(1416, 4)\n"
     ]
    },
    {
     "data": {
      "text/html": [
       "<div>\n",
       "<style>\n",
       "    .dataframe thead tr:only-child th {\n",
       "        text-align: right;\n",
       "    }\n",
       "\n",
       "    .dataframe thead th {\n",
       "        text-align: left;\n",
       "    }\n",
       "\n",
       "    .dataframe tbody tr th {\n",
       "        vertical-align: top;\n",
       "    }\n",
       "</style>\n",
       "<table border=\"1\" class=\"dataframe\">\n",
       "  <thead>\n",
       "    <tr style=\"text-align: right;\">\n",
       "      <th></th>\n",
       "      <th>weight</th>\n",
       "      <th>children</th>\n",
       "      <th>sub_weights</th>\n",
       "      <th>parent</th>\n",
       "    </tr>\n",
       "    <tr>\n",
       "      <th>id</th>\n",
       "      <th></th>\n",
       "      <th></th>\n",
       "      <th></th>\n",
       "      <th></th>\n",
       "    </tr>\n",
       "  </thead>\n",
       "  <tbody>\n",
       "    <tr>\n",
       "      <th>rmhcw</th>\n",
       "      <td>26</td>\n",
       "      <td></td>\n",
       "      <td>0</td>\n",
       "      <td>bajivws</td>\n",
       "    </tr>\n",
       "    <tr>\n",
       "      <th>dmmriu</th>\n",
       "      <td>61</td>\n",
       "      <td></td>\n",
       "      <td>0</td>\n",
       "      <td>wbyisd</td>\n",
       "    </tr>\n",
       "    <tr>\n",
       "      <th>zjyaaoc</th>\n",
       "      <td>89</td>\n",
       "      <td>khekb, lywwhf</td>\n",
       "      <td>156</td>\n",
       "      <td>zacca</td>\n",
       "    </tr>\n",
       "    <tr>\n",
       "      <th>kjgaib</th>\n",
       "      <td>385</td>\n",
       "      <td></td>\n",
       "      <td>0</td>\n",
       "      <td>nhfqb</td>\n",
       "    </tr>\n",
       "    <tr>\n",
       "      <th>nvvdii</th>\n",
       "      <td>28</td>\n",
       "      <td></td>\n",
       "      <td>0</td>\n",
       "      <td>atyrf</td>\n",
       "    </tr>\n",
       "  </tbody>\n",
       "</table>\n",
       "</div>"
      ],
      "text/plain": [
       "         weight       children  sub_weights   parent\n",
       "id                                                  \n",
       "rmhcw        26                           0  bajivws\n",
       "dmmriu       61                           0   wbyisd\n",
       "zjyaaoc      89  khekb, lywwhf          156    zacca\n",
       "kjgaib      385                           0    nhfqb\n",
       "nvvdii       28                           0    atyrf"
      ]
     },
     "execution_count": 277,
     "metadata": {},
     "output_type": "execute_result"
    }
   ],
   "source": [
    "print(tree.df.shape)\n",
    "tree.df.head()"
   ]
  },
  {
   "cell_type": "code",
   "execution_count": 282,
   "metadata": {},
   "outputs": [
    {
     "data": {
      "text/html": [
       "<div>\n",
       "<style>\n",
       "    .dataframe thead tr:only-child th {\n",
       "        text-align: right;\n",
       "    }\n",
       "\n",
       "    .dataframe thead th {\n",
       "        text-align: left;\n",
       "    }\n",
       "\n",
       "    .dataframe tbody tr th {\n",
       "        vertical-align: top;\n",
       "    }\n",
       "</style>\n",
       "<table border=\"1\" class=\"dataframe\">\n",
       "  <thead>\n",
       "    <tr style=\"text-align: right;\">\n",
       "      <th></th>\n",
       "      <th>weight</th>\n",
       "      <th>children</th>\n",
       "      <th>sub_weights</th>\n",
       "      <th>parent</th>\n",
       "      <th>total_weight</th>\n",
       "    </tr>\n",
       "    <tr>\n",
       "      <th>id</th>\n",
       "      <th></th>\n",
       "      <th></th>\n",
       "      <th></th>\n",
       "      <th></th>\n",
       "      <th></th>\n",
       "    </tr>\n",
       "  </thead>\n",
       "  <tbody>\n",
       "    <tr>\n",
       "      <th>rmhcw</th>\n",
       "      <td>26</td>\n",
       "      <td></td>\n",
       "      <td>0</td>\n",
       "      <td>bajivws</td>\n",
       "      <td>26</td>\n",
       "    </tr>\n",
       "    <tr>\n",
       "      <th>dmmriu</th>\n",
       "      <td>61</td>\n",
       "      <td></td>\n",
       "      <td>0</td>\n",
       "      <td>wbyisd</td>\n",
       "      <td>61</td>\n",
       "    </tr>\n",
       "    <tr>\n",
       "      <th>zjyaaoc</th>\n",
       "      <td>89</td>\n",
       "      <td>khekb, lywwhf</td>\n",
       "      <td>156</td>\n",
       "      <td>zacca</td>\n",
       "      <td>245</td>\n",
       "    </tr>\n",
       "    <tr>\n",
       "      <th>kjgaib</th>\n",
       "      <td>385</td>\n",
       "      <td></td>\n",
       "      <td>0</td>\n",
       "      <td>nhfqb</td>\n",
       "      <td>385</td>\n",
       "    </tr>\n",
       "    <tr>\n",
       "      <th>nvvdii</th>\n",
       "      <td>28</td>\n",
       "      <td></td>\n",
       "      <td>0</td>\n",
       "      <td>atyrf</td>\n",
       "      <td>28</td>\n",
       "    </tr>\n",
       "  </tbody>\n",
       "</table>\n",
       "</div>"
      ],
      "text/plain": [
       "         weight       children  sub_weights   parent  total_weight\n",
       "id                                                                \n",
       "rmhcw        26                           0  bajivws            26\n",
       "dmmriu       61                           0   wbyisd            61\n",
       "zjyaaoc      89  khekb, lywwhf          156    zacca           245\n",
       "kjgaib      385                           0    nhfqb           385\n",
       "nvvdii       28                           0    atyrf            28"
      ]
     },
     "execution_count": 282,
     "metadata": {},
     "output_type": "execute_result"
    }
   ],
   "source": [
    "tree.df = tree.df.assign(total_weight = tree.df.sub_weights + tree.df.weight)\n",
    "tree.df.head()"
   ]
  },
  {
   "cell_type": "code",
   "execution_count": 294,
   "metadata": {},
   "outputs": [],
   "source": [
    "child_weight_std = tree.df.groupby('parent')['total_weight'].agg(np.std)\n",
    "unbalanced = child_weight_std.loc[child_weight_std > 0].index.tolist()"
   ]
  },
  {
   "cell_type": "code",
   "execution_count": 301,
   "metadata": {},
   "outputs": [
    {
     "data": {
      "text/html": [
       "<div>\n",
       "<style>\n",
       "    .dataframe thead tr:only-child th {\n",
       "        text-align: right;\n",
       "    }\n",
       "\n",
       "    .dataframe thead th {\n",
       "        text-align: left;\n",
       "    }\n",
       "\n",
       "    .dataframe tbody tr th {\n",
       "        vertical-align: top;\n",
       "    }\n",
       "</style>\n",
       "<table border=\"1\" class=\"dataframe\">\n",
       "  <thead>\n",
       "    <tr style=\"text-align: right;\">\n",
       "      <th></th>\n",
       "      <th>weight</th>\n",
       "      <th>children</th>\n",
       "      <th>sub_weights</th>\n",
       "      <th>parent</th>\n",
       "      <th>total_weight</th>\n",
       "    </tr>\n",
       "    <tr>\n",
       "      <th>id</th>\n",
       "      <th></th>\n",
       "      <th></th>\n",
       "      <th></th>\n",
       "      <th></th>\n",
       "      <th></th>\n",
       "    </tr>\n",
       "  </thead>\n",
       "  <tbody>\n",
       "    <tr>\n",
       "      <th>irqwcab</th>\n",
       "      <td>8461</td>\n",
       "      <td>hxsausc, qtmdrsq, xfqfzsh</td>\n",
       "      <td>825</td>\n",
       "      <td>rsalq</td>\n",
       "      <td>9286</td>\n",
       "    </tr>\n",
       "    <tr>\n",
       "      <th>uduyfo</th>\n",
       "      <td>1710</td>\n",
       "      <td>amhaz, cumah, zqfvypo, dribos</td>\n",
       "      <td>7585</td>\n",
       "      <td>rsalq</td>\n",
       "      <td>9295</td>\n",
       "    </tr>\n",
       "    <tr>\n",
       "      <th>sdxbol</th>\n",
       "      <td>2587</td>\n",
       "      <td>qwsjrs, dnqva, ddssmn</td>\n",
       "      <td>6699</td>\n",
       "      <td>rsalq</td>\n",
       "      <td>9286</td>\n",
       "    </tr>\n",
       "    <tr>\n",
       "      <th>jiaiwto</th>\n",
       "      <td>936</td>\n",
       "      <td>ezftzv, uwcumu, dylatux, fhezp, lcbmlo</td>\n",
       "      <td>8350</td>\n",
       "      <td>rsalq</td>\n",
       "      <td>9286</td>\n",
       "    </tr>\n",
       "    <tr>\n",
       "      <th>viydtj</th>\n",
       "      <td>10</td>\n",
       "      <td>kstjj, qybpmcs, qpiwrz, koordg</td>\n",
       "      <td>9276</td>\n",
       "      <td>rsalq</td>\n",
       "      <td>9286</td>\n",
       "    </tr>\n",
       "    <tr>\n",
       "      <th>cumah</th>\n",
       "      <td>1069</td>\n",
       "      <td>pqmyjtl, wczux, rfjilj</td>\n",
       "      <td>834</td>\n",
       "      <td>uduyfo</td>\n",
       "      <td>1903</td>\n",
       "    </tr>\n",
       "    <tr>\n",
       "      <th>zqfvypo</th>\n",
       "      <td>1810</td>\n",
       "      <td>juxyuv, ednozov</td>\n",
       "      <td>84</td>\n",
       "      <td>uduyfo</td>\n",
       "      <td>1894</td>\n",
       "    </tr>\n",
       "    <tr>\n",
       "      <th>amhaz</th>\n",
       "      <td>39</td>\n",
       "      <td>pvnsq, vlxrpve, fchnaw, toejq, dnxvlw, iqjhw, ...</td>\n",
       "      <td>1855</td>\n",
       "      <td>uduyfo</td>\n",
       "      <td>1894</td>\n",
       "    </tr>\n",
       "    <tr>\n",
       "      <th>dribos</th>\n",
       "      <td>1213</td>\n",
       "      <td>cjdmv, lpozpnx, jknws</td>\n",
       "      <td>681</td>\n",
       "      <td>uduyfo</td>\n",
       "      <td>1894</td>\n",
       "    </tr>\n",
       "    <tr>\n",
       "      <th>xgudb</th>\n",
       "      <td>26966</td>\n",
       "      <td>hnafo, fouvfkn, pjfty, qkvogv, hwlwfs, lazhif</td>\n",
       "      <td>67284</td>\n",
       "      <td>ykpsek</td>\n",
       "      <td>94250</td>\n",
       "    </tr>\n",
       "    <tr>\n",
       "      <th>fucsb</th>\n",
       "      <td>24047</td>\n",
       "      <td>uzvsyt, bcawzmn, cknaaem, ybcmydv, rphyyst, ik...</td>\n",
       "      <td>70203</td>\n",
       "      <td>ykpsek</td>\n",
       "      <td>94250</td>\n",
       "    </tr>\n",
       "    <tr>\n",
       "      <th>xjllex</th>\n",
       "      <td>64931</td>\n",
       "      <td>xjqjmx, mkvdfih, gbwdd</td>\n",
       "      <td>29319</td>\n",
       "      <td>ykpsek</td>\n",
       "      <td>94250</td>\n",
       "    </tr>\n",
       "    <tr>\n",
       "      <th>splbrdu</th>\n",
       "      <td>58</td>\n",
       "      <td>gqdyvi, qzrbg, esnoa, hxnxfk, ialiosa, tkekg, ...</td>\n",
       "      <td>94192</td>\n",
       "      <td>ykpsek</td>\n",
       "      <td>94250</td>\n",
       "    </tr>\n",
       "    <tr>\n",
       "      <th>rsalq</th>\n",
       "      <td>47820</td>\n",
       "      <td>sdxbol, irqwcab, jiaiwto, viydtj, uduyfo</td>\n",
       "      <td>46439</td>\n",
       "      <td>ykpsek</td>\n",
       "      <td>94259</td>\n",
       "    </tr>\n",
       "  </tbody>\n",
       "</table>\n",
       "</div>"
      ],
      "text/plain": [
       "         weight                                           children  \\\n",
       "id                                                                   \n",
       "irqwcab    8461                          hxsausc, qtmdrsq, xfqfzsh   \n",
       "uduyfo     1710                      amhaz, cumah, zqfvypo, dribos   \n",
       "sdxbol     2587                              qwsjrs, dnqva, ddssmn   \n",
       "jiaiwto     936             ezftzv, uwcumu, dylatux, fhezp, lcbmlo   \n",
       "viydtj       10                     kstjj, qybpmcs, qpiwrz, koordg   \n",
       "cumah      1069                             pqmyjtl, wczux, rfjilj   \n",
       "zqfvypo    1810                                    juxyuv, ednozov   \n",
       "amhaz        39  pvnsq, vlxrpve, fchnaw, toejq, dnxvlw, iqjhw, ...   \n",
       "dribos     1213                              cjdmv, lpozpnx, jknws   \n",
       "xgudb     26966      hnafo, fouvfkn, pjfty, qkvogv, hwlwfs, lazhif   \n",
       "fucsb     24047  uzvsyt, bcawzmn, cknaaem, ybcmydv, rphyyst, ik...   \n",
       "xjllex    64931                             xjqjmx, mkvdfih, gbwdd   \n",
       "splbrdu      58  gqdyvi, qzrbg, esnoa, hxnxfk, ialiosa, tkekg, ...   \n",
       "rsalq     47820           sdxbol, irqwcab, jiaiwto, viydtj, uduyfo   \n",
       "\n",
       "         sub_weights  parent  total_weight  \n",
       "id                                          \n",
       "irqwcab          825   rsalq          9286  \n",
       "uduyfo          7585   rsalq          9295  \n",
       "sdxbol          6699   rsalq          9286  \n",
       "jiaiwto         8350   rsalq          9286  \n",
       "viydtj          9276   rsalq          9286  \n",
       "cumah            834  uduyfo          1903  \n",
       "zqfvypo           84  uduyfo          1894  \n",
       "amhaz           1855  uduyfo          1894  \n",
       "dribos           681  uduyfo          1894  \n",
       "xgudb          67284  ykpsek         94250  \n",
       "fucsb          70203  ykpsek         94250  \n",
       "xjllex         29319  ykpsek         94250  \n",
       "splbrdu        94192  ykpsek         94250  \n",
       "rsalq          46439  ykpsek         94259  "
      ]
     },
     "execution_count": 301,
     "metadata": {},
     "output_type": "execute_result"
    }
   ],
   "source": [
    "tree.df.loc[tree.df.parent.isin(unbalanced)].sort_values('parent')"
   ]
  },
  {
   "cell_type": "code",
   "execution_count": 304,
   "metadata": {},
   "outputs": [
    {
     "data": {
      "text/plain": [
       "1060"
      ]
     },
     "execution_count": 304,
     "metadata": {},
     "output_type": "execute_result"
    }
   ],
   "source": [
    "1069 - (1903-1894)"
   ]
  }
 ],
 "metadata": {
  "kernelspec": {
   "display_name": "Python [default]",
   "language": "python",
   "name": "python3"
  },
  "language_info": {
   "codemirror_mode": {
    "name": "ipython",
    "version": 3
   },
   "file_extension": ".py",
   "mimetype": "text/x-python",
   "name": "python",
   "nbconvert_exporter": "python",
   "pygments_lexer": "ipython3",
   "version": "3.6.3"
  }
 },
 "nbformat": 4,
 "nbformat_minor": 2
}
