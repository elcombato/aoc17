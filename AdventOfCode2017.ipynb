{
 "cells": [
  {
   "cell_type": "markdown",
   "metadata": {},
   "source": [
    "# Advent of Code 2017"
   ]
  },
  {
   "cell_type": "code",
   "execution_count": 1,
   "metadata": {
    "collapsed": true
   },
   "outputs": [],
   "source": [
    "import csv\n",
    "import numpy as np\n",
    "from itertools import product\n",
    "import math"
   ]
  },
  {
   "cell_type": "markdown",
   "metadata": {},
   "source": [
    "## Day 1"
   ]
  },
  {
   "cell_type": "code",
   "execution_count": 2,
   "metadata": {
    "collapsed": true
   },
   "outputs": [],
   "source": [
    "def d1p1(inp):\n",
    "    seq1 = [int(inp[i:(i+1)]) for i in range(len(inp))] + [int(inp[-1])]\n",
    "    return sum([seq1[i] for i in range(len(seq1)-1) if (seq1[i] - seq1[i+1]) == 0])"
   ]
  },
  {
   "cell_type": "code",
   "execution_count": 3,
   "metadata": {},
   "outputs": [],
   "source": [
    "def d1p2(inp):\n",
    "    seq2 = [int(inp[i:(i+1)]) for i in range(len(inp))] * 2\n",
    "    step = int(len(inp) / 2)\n",
    "    return sum([seq2[i] for i in range(len(inp)) if (seq2[i] - seq2[i+step]) == 0])"
   ]
  },
  {
   "cell_type": "markdown",
   "metadata": {},
   "source": [
    "### Result"
   ]
  },
  {
   "cell_type": "code",
   "execution_count": 4,
   "metadata": {},
   "outputs": [
    {
     "name": "stdout",
     "output_type": "stream",
     "text": [
      "==> Part1: 1216\n",
      "==> Part2: 1072\n"
     ]
    }
   ],
   "source": [
    "with open('input_day1.txt', 'r') as f:\n",
    "    inp = f.read()\n",
    "print(f\"==> Part1: {d1p1(inp)}\")\n",
    "print(f\"==> Part2: {d1p2(inp)}\")"
   ]
  },
  {
   "cell_type": "markdown",
   "metadata": {},
   "source": [
    "## Day 2"
   ]
  },
  {
   "cell_type": "code",
   "execution_count": 5,
   "metadata": {},
   "outputs": [],
   "source": [
    "def d2p1(inp):\n",
    "    return sum(inp.max(1) - inp.min(1))"
   ]
  },
  {
   "cell_type": "code",
   "execution_count": 6,
   "metadata": {
    "collapsed": true
   },
   "outputs": [],
   "source": [
    "def d2p2(inp):\n",
    "    def evenly_div(arr):\n",
    "        pairs = np.asarray(list(product(arr, repeat=2)))\n",
    "        div = (pairs[:, 0] / pairs[:, 1]).astype(int)\n",
    "        return div[(pairs[:, 0] % pairs[:, 1] == 0) & (pairs[:, 0] != pairs[:, 1])][0]\n",
    "    return sum(np.apply_along_axis(evenly_div, 1, inp))"
   ]
  },
  {
   "cell_type": "markdown",
   "metadata": {},
   "source": [
    "### Result"
   ]
  },
  {
   "cell_type": "code",
   "execution_count": 7,
   "metadata": {},
   "outputs": [
    {
     "name": "stdout",
     "output_type": "stream",
     "text": [
      "==> Part1: 34925\n",
      "==> Part2: 221\n"
     ]
    }
   ],
   "source": [
    "with open('input_day2.txt', 'r') as f:\n",
    "    inp = [l for l in csv.reader(f)]\n",
    "inp = np.asarray(inp).astype(int)\n",
    "print(f\"==> Part1: {d2p1(inp)}\")\n",
    "print(f\"==> Part2: {d2p2(inp)}\")"
   ]
  },
  {
   "cell_type": "markdown",
   "metadata": {},
   "source": [
    "## Day 3"
   ]
  },
  {
   "cell_type": "code",
   "execution_count": 8,
   "metadata": {
    "collapsed": true
   },
   "outputs": [],
   "source": [
    "def d3_prereq(inp):\n",
    "    upper_sqrt = math.ceil(math.sqrt(inp))\n",
    "    edge_len = upper_sqrt + int(upper_sqrt % 2 == 0)\n",
    "    return upper_sqrt, edge_len"
   ]
  },
  {
   "cell_type": "code",
   "execution_count": 9,
   "metadata": {},
   "outputs": [],
   "source": [
    "def d3p1(inp):\n",
    "    upper_sqrt, edge_len = d3_prereq(inp)\n",
    "    print(f'square root \\t= {math.sqrt(inp)} (=> {upper_sqrt} => {edge_len})')\n",
    "\n",
    "    ring_dist = int(edge_len / 2)\n",
    "    print(f'ring to center \\t= {ring_dist}')\n",
    "\n",
    "    last_num = edge_len**2\n",
    "    print(f'max of ring \\t= {last_num}')\n",
    "\n",
    "    edge_center = np.array([(last_num - int(edge_len / 2)) - (edge_len - 1) * i for i in range(4)])\n",
    "    edge_dist = min(abs(edge_center - inp))\n",
    "    print(f'to edge center = {edge_dist}')\n",
    "\n",
    "    return ring_dist + edge_dist"
   ]
  },
  {
   "cell_type": "code",
   "execution_count": 10,
   "metadata": {},
   "outputs": [],
   "source": [
    "def d3p2(inp):\n",
    "    _, edge_len = d3_prereq(inp)\n",
    "    grid_size = edge_len + 2\n",
    "    grid = np.zeros([grid_size, grid_size])\n",
    "    center = int(grid_size / 2)\n",
    "    x, y = center, center\n",
    "    val = 1\n",
    "    grid[y, x] = val\n",
    "\n",
    "    while val < inp:\n",
    "        if grid[y-1, x] == 0 and grid[y, x-1] == 0 and grid[y+1, x] == 0 and grid[y, x+1] == 0:\n",
    "            x += 1\n",
    "        # UP if: u == 0 and l != 0\n",
    "        elif grid[y-1, x] == 0 and grid[y, x-1] != 0:\n",
    "            y -= 1\n",
    "        # LEFT if: l == 0 and d != 0\n",
    "        elif grid[y, x-1] == 0 and grid[y+1, x] != 0:\n",
    "            x -= 1\n",
    "        # DOWN if: d == 0 and r != 0\n",
    "        elif grid[y+1, x] == 0 and grid[y, x+1] != 0:\n",
    "            y += 1\n",
    "        # RIGHT if: r == 0 and u != 0\n",
    "        elif grid[y, x+1] == 0 and grid[y-1, x] != 0:\n",
    "            x += 1\n",
    "        val = sum([\n",
    "            grid[y+1, x],\n",
    "            grid[y-1, x],\n",
    "            grid[y, x+1],\n",
    "            grid[y, x-1],\n",
    "            grid[y+1, x+1],\n",
    "            grid[y+1, x-1],\n",
    "            grid[y-1, x+1],\n",
    "            grid[y-1, x-1]        \n",
    "        ])\n",
    "        grid[y, x] = val\n",
    "    return int(val)"
   ]
  },
  {
   "cell_type": "markdown",
   "metadata": {},
   "source": [
    "### Result"
   ]
  },
  {
   "cell_type": "code",
   "execution_count": 11,
   "metadata": {},
   "outputs": [
    {
     "name": "stdout",
     "output_type": "stream",
     "text": [
      "square root \t= 601.2711534740379 (=> 602 => 603)\n",
      "ring to center \t= 301\n",
      "max of ring \t= 363609\n",
      "to edge center = 25\n",
      "==> Part1: 326\n",
      "==> Part2: 363010\n"
     ]
    }
   ],
   "source": [
    "inp = 361527\n",
    "print(f\"==> Part1: {d3p1(inp)}\")\n",
    "print(f\"==> Part2: {d3p2(inp)}\")"
   ]
  },
  {
   "cell_type": "markdown",
   "metadata": {},
   "source": [
    "## Day 4"
   ]
  },
  {
   "cell_type": "code",
   "execution_count": 12,
   "metadata": {},
   "outputs": [],
   "source": [
    "def d4p1(inp):\n",
    "    return sum([len(p) == len(set(p)) for p in inp])"
   ]
  },
  {
   "cell_type": "code",
   "execution_count": 13,
   "metadata": {},
   "outputs": [],
   "source": [
    "def d4p2(inp):\n",
    "    ana = [[''.join(sorted(set(w))) for w in p] for p in inp]\n",
    "    return sum([len(p) == len(set(p)) for p in ana])"
   ]
  },
  {
   "cell_type": "markdown",
   "metadata": {},
   "source": [
    "### Result"
   ]
  },
  {
   "cell_type": "code",
   "execution_count": 14,
   "metadata": {},
   "outputs": [
    {
     "name": "stdout",
     "output_type": "stream",
     "text": [
      "==> Part1: 466\n",
      "==> Part2: 251\n"
     ]
    }
   ],
   "source": [
    "with open('input_day4.txt', 'r') as f:\n",
    "    inp = f.readlines()\n",
    "inp = [phrase.rstrip('\\n').split(' ') for phrase in inp]\n",
    "\n",
    "print(f\"==> Part1: {d4p1(inp)}\")\n",
    "print(f\"==> Part2: {d4p2(inp)}\")"
   ]
  },
  {
   "cell_type": "markdown",
   "metadata": {},
   "source": [
    "## Day 5"
   ]
  },
  {
   "cell_type": "code",
   "execution_count": 24,
   "metadata": {},
   "outputs": [],
   "source": [
    "def d5(inp, p1=True):\n",
    "    pos, n_steps = 0, 0\n",
    "    while 0 <= pos < len(inp):\n",
    "        offset = inp[pos]\n",
    "        inp[pos] += 1 if (offset < 3 or p1) else -1\n",
    "        pos = pos+offset\n",
    "        n_steps += 1\n",
    "    return n_steps, inp"
   ]
  },
  {
   "cell_type": "markdown",
   "metadata": {},
   "source": [
    "### Result"
   ]
  },
  {
   "cell_type": "code",
   "execution_count": 29,
   "metadata": {},
   "outputs": [
    {
     "name": "stdout",
     "output_type": "stream",
     "text": [
      "==> Part1: 325922\n",
      "==> Part2: 35\n"
     ]
    }
   ],
   "source": [
    "inp = []\n",
    "with open('input_day5.txt', 'r') as f:\n",
    "    line = f.readline()\n",
    "    while len(line) > 0:\n",
    "        inp.append(int(line.rstrip('\\n')))\n",
    "        line = f.readline()\n",
    "        \n",
    "p1_result, p1_state = d5(inp, p1=True)\n",
    "p2_result, _ = d5(inp, p1=False)\n",
    "print(f\"==> Part1: {p1_result}\")\n",
    "print(f\"==> Part2: {p2_result}\")"
   ]
  },
  {
   "cell_type": "markdown",
   "metadata": {},
   "source": [
    "## Day 6"
   ]
  },
  {
   "cell_type": "code",
   "execution_count": 17,
   "metadata": {},
   "outputs": [],
   "source": [
    "def d6p1(state):\n",
    "    seen_states = []\n",
    "    n_cycles = 0\n",
    "    while str(state) not in seen_states:\n",
    "        ix = np.argmax(state)\n",
    "        n_blocks = state[ix]\n",
    "        seen_states.append(str(state))\n",
    "        state[ix] = 0\n",
    "        while n_blocks > 0:\n",
    "            ix += 1\n",
    "            ix *= int(ix < len(state))\n",
    "            n_blocks -= 1\n",
    "            state[ix] += 1\n",
    "        n_cycles += 1\n",
    "    return n_cycles, state"
   ]
  },
  {
   "cell_type": "code",
   "execution_count": 18,
   "metadata": {},
   "outputs": [],
   "source": [
    "def d6p2(state):\n",
    "    n_cycles = 0\n",
    "    loop_state = str(state)\n",
    "    while n_cycles == 0 or str(state) != loop_state:\n",
    "        ix = np.argmax(state)\n",
    "        n_blocks = state[ix]\n",
    "        state[ix] = 0\n",
    "        while n_blocks > 0:\n",
    "            ix += 1\n",
    "            ix *= int(ix < len(state))\n",
    "            n_blocks -= 1\n",
    "            state[ix] += 1\n",
    "        n_cycles += 1\n",
    "    return n_cycles"
   ]
  },
  {
   "cell_type": "markdown",
   "metadata": {},
   "source": [
    "### Result"
   ]
  },
  {
   "cell_type": "code",
   "execution_count": 30,
   "metadata": {},
   "outputs": [
    {
     "name": "stdout",
     "output_type": "stream",
     "text": [
      "==> Part1: 7864\n",
      "==> Part2: 1695\n"
     ]
    }
   ],
   "source": [
    "with open('input_day6.txt', 'r') as f:\n",
    "    inp = f.read().rstrip('\\n').split('\\t')\n",
    "inp = np.asarray(inp).astype(int)\n",
    "\n",
    "p1_result, p1_state = d6p1(inp)\n",
    "p2_result = d6p2(p1_state)\n",
    "print(f\"==> Part1: {p1_result}\")\n",
    "print(f\"==> Part2: {p2_result}\")"
   ]
  }
 ],
 "metadata": {
  "kernelspec": {
   "display_name": "Python [default]",
   "language": "python",
   "name": "python3"
  },
  "language_info": {
   "codemirror_mode": {
    "name": "ipython",
    "version": 3
   },
   "file_extension": ".py",
   "mimetype": "text/x-python",
   "name": "python",
   "nbconvert_exporter": "python",
   "pygments_lexer": "ipython3",
   "version": "3.6.3"
  }
 },
 "nbformat": 4,
 "nbformat_minor": 2
}
